{
 "cells": [
  {
   "cell_type": "markdown",
   "metadata": {},
   "source": [
    "# Product Ranking as an MIP problem\n",
    "This notebook is going to serve as tutorial and example on how to solve product ranking as an assignment problem. Concretely, we will define it as a Mixed Integer Programming problem.\n",
    "\n",
    "## 1. Problem setup\n",
    "\n",
    "### Variables & position bias"
   ]
  },
  {
   "cell_type": "code",
   "execution_count": 1,
   "metadata": {},
   "outputs": [],
   "source": [
    "import numpy as np\n",
    "\n",
    "MAX_SALES = 30\n",
    "N_PRODUCTS = 20\n",
    "PRODS = np.arange(N_PRODUCTS)\n",
    "SALES_FORECAST = np.random.choice(MAX_SALES, N_PRODUCTS)  # max_sales, n_products\n",
    "POSITIONS = np.random.permutation(PRODS)\n",
    "POSITION_BIAS = np.geomspace(1, 0.4, N_PRODUCTS)"
   ]
  },
  {
   "cell_type": "code",
   "execution_count": 2,
   "metadata": {},
   "outputs": [
    {
     "data": {
      "text/plain": [
       "array([ 5, 14,  3,  8,  4, 18,  0,  7, 12,  6, 10, 17, 11, 19,  2, 15, 13,\n",
       "        1, 16,  9])"
      ]
     },
     "execution_count": 2,
     "metadata": {},
     "output_type": "execute_result"
    }
   ],
   "source": [
    "POSITIONS"
   ]
  },
  {
   "cell_type": "code",
   "execution_count": 3,
   "metadata": {},
   "outputs": [
    {
     "data": {
      "text/plain": [
       "<matplotlib.axes._subplots.AxesSubplot at 0x11714e990>"
      ]
     },
     "execution_count": 3,
     "metadata": {},
     "output_type": "execute_result"
    },
    {
     "data": {
      "image/png": "[encoded data removed]",
      "text/plain": [
       "<Figure size 432x288 with 1 Axes>"
      ]
     },
     "metadata": {
      "needs_background": "light"
     },
     "output_type": "display_data"
    }
   ],
   "source": [
    "\"\"\"DISCOMMENT TO SHOW PLOT (NOT REALLY NEEDED)\"\"\"\n",
    "import seaborn as sns\n",
    "%matplotlib inline\n",
    "\n",
    "sns.lineplot(PRODS, POSITION_BIAS)"
   ]
  },
  {
   "cell_type": "markdown",
   "metadata": {},
   "source": [
    "### Sales extrapolation"
   ]
  },
  {
   "cell_type": "code",
   "execution_count": 4,
   "metadata": {},
   "outputs": [],
   "source": [
    "def extrapolate_sales(current_position, new_positions, forecasted_sales):\n",
    "    return np.array([min(MAX_SALES, forecasted_sales * POSITION_BIAS[new_position] / POSITION_BIAS[current_position]) \n",
    "            for new_position in new_positions])"
   ]
  },
  {
   "cell_type": "code",
   "execution_count": 5,
   "metadata": {},
   "outputs": [],
   "source": [
    "extrapolated_sales_matrix = np.array(np.array([extrapolate_sales(POSITIONS[i], PRODS, SALES_FORECAST[i]) \n",
    "                                       for i in range(0, len(PRODS))]))"
   ]
  },
  {
   "cell_type": "markdown",
   "metadata": {},
   "source": [
    "$M_{i, j}$ number of predicted sales of product _i_ at position _j_. \n",
    "\n",
    "*Objective*: maximize number of sales\n",
    "\n",
    "The problem has $n!$ possible solutions. "
   ]
  },
  {
   "cell_type": "code",
   "execution_count": 6,
   "metadata": {},
   "outputs": [
    {
     "name": "stdout",
     "output_type": "stream",
     "text": [
      "Number of possible solutions 2.43290200817664e+18\n"
     ]
    }
   ],
   "source": [
    "from scipy.special import factorial \n",
    "\n",
    "print(f'Number of possible solutions {factorial(N_PRODUCTS)}')"
   ]
  },
  {
   "cell_type": "markdown",
   "metadata": {},
   "source": [
    "It seems unfeasible to solve this problem by trying all possible combinations.\n",
    "We could try a greedy algorithm that tries selects the highest reward for each position. However, this would not lead to a global optimal solution.\n",
    "So...\n",
    "Let's define the problem as a Mixed Integer Programming problem!\n",
    "\n",
    "## Mixed Integer Programming & OR-Tools\n",
    "In our problem we want to decide product-position pairs in order to maximize our reward. In this case, the reward could be the number of sales, the revenue or the margin generated. We will use the term reward for a general case.\n",
    "To do so we are going to create an array of coefficients:\n",
    "\n",
    "$ C_{i, j}\\begin{cases} \n",
    "      1 & \\text{product $i$ selected to position $j$} \\\\\n",
    "      0 & \\text{otherwise}\n",
    "   \\end{cases}\n",
    "$"
   ]
  },
  {
   "cell_type": "code",
   "execution_count": 7,
   "metadata": {},
   "outputs": [],
   "source": [
    "from ortools.linear_solver import pywraplp\n",
    "\n",
    "# Solver definition\n",
    "solver = pywraplp.Solver('Ranking_Optimization',\n",
    "                         pywraplp.Solver.CBC_MIXED_INTEGER_PROGRAMMING)\n",
    "\n",
    "chosen = {}\n",
    "\n",
    "for i in range(N_PRODUCTS):\n",
    "    for j in range(N_PRODUCTS):   # len(prods) = npositions\n",
    "        chosen[i, j] = solver.BoolVar(f'Prod {i} position {j}')"
   ]
  },
  {
   "cell_type": "markdown",
   "metadata": {},
   "source": [
    "### The objective function\n",
    "Our objective is to maximize the number of sales. We need to select pairs product-position such that we maximize the total number of sales.\n",
    "\n",
    "We can define it then as:\n",
    "\n",
    "maximize $ \\displaystyle\\sum_{i, j=0}^{n-1} C_{i, j} * M_{i, j} $"
   ]
  },
  {
   "cell_type": "code",
   "execution_count": 8,
   "metadata": {},
   "outputs": [],
   "source": [
    "solver.Maximize(solver.Sum([chosen[i, j] * extrapolated_sales_matrix[i,j] for i in range(N_PRODUCTS)\n",
    "                                                                          for j in range(N_PRODUCTS)]))"
   ]
  },
  {
   "cell_type": "markdown",
   "metadata": {},
   "source": [
    "### Constraints\n",
    "\n",
    "If we leave the problem as is the solver will decide to set all products in all positions. However, this is not possible! We need to define constraints to avoid this.\n",
    "\n",
    "*C1*: One product goes to exactly one position\n",
    "\n",
    "$ \\displaystyle\\sum_{i}^{n-1} C_{i, j} = 1, \\text{j=\\{0..n\\}} $"
   ]
  },
  {
   "cell_type": "code",
   "execution_count": 9,
   "metadata": {},
   "outputs": [],
   "source": [
    "for i in range(0, N_PRODUCTS):\n",
    "    solver.Add(solver.Sum([chosen[i, j] for j in range(N_PRODUCTS)]) == 1)"
   ]
  },
  {
   "cell_type": "markdown",
   "metadata": {},
   "source": [
    "*C2*: One position gets just one product\n",
    "\n",
    "$ \\displaystyle\\sum_{j}^{n-1} C_{i, j} = 1, \\text{i=\\{0..n\\}} $"
   ]
  },
  {
   "cell_type": "code",
   "execution_count": 10,
   "metadata": {},
   "outputs": [],
   "source": [
    "for j in range(0, N_PRODUCTS):\n",
    "    solver.Add(solver.Sum([chosen[i, j] for i in range(N_PRODUCTS)]) == 1)"
   ]
  },
  {
   "cell_type": "markdown",
   "metadata": {},
   "source": [
    "Finally, solve the problem:\n",
    "\n",
    "$\n",
    "\\text{maximize} \\displaystyle\\sum_{i, j=0}^{n-1} C_{i, j} * M_{i, j} \\\\\n",
    "\\begin{aligned}\n",
    "\\text{subject to} \\quad \\displaystyle\\sum_{i}^{n-1} C_{i, j} = 1, \\text{j=\\{0..n\\}} \\\\\n",
    "\\displaystyle\\sum_{j}^{n-1} C_{i, j} = 1, \\text{i=\\{0..n\\}}\n",
    "\\end{aligned}\n",
    "$"
   ]
  },
  {
   "cell_type": "markdown",
   "metadata": {},
   "source": [
    "#### *Extra*: pairs of products that need to go together"
   ]
  },
  {
   "cell_type": "code",
   "execution_count": 11,
   "metadata": {},
   "outputs": [],
   "source": [
    "\n",
    "pairs = [(0, 2), (5, 7), (9, 11)]\n",
    "for (prod_x, prod_y) in pairs:\n",
    "    pos_x = pos_y = 0\n",
    "    for i in range(0, N_PRODUCTS):\n",
    "        pos_x += chosen[prod_x, i] * i\n",
    "    for j in range(0, N_PRODUCTS):\n",
    "        pos_y += chosen[prod_y, j] * j\n",
    "    distance = pos_x - pos_y\n",
    "    solver.Add(distance == -1)"
   ]
  },
  {
   "cell_type": "code",
   "execution_count": 12,
   "metadata": {},
   "outputs": [],
   "source": [
    "solution = solver.Solve()"
   ]
  },
  {
   "cell_type": "code",
   "execution_count": 14,
   "metadata": {},
   "outputs": [
    {
     "name": "stdout",
     "output_type": "stream",
     "text": [
      "Total cost =  319.23724812395346\n",
      "Product 0 goes to position 11 and is expected to sell 15.723673922269692 units\n",
      "Product 1 goes to position 0 and is expected to sell 27.50090522827369 units\n",
      "Product 2 goes to position 12 and is expected to sell 5.831021068349598 units\n",
      "Product 3 goes to position 16 and is expected to sell 6.119117907588938 units\n",
      "Product 4 goes to position 10 and is expected to sell 14.226181167767816 units\n",
      "Product 5 goes to position 4 and is expected to sell 21.607854107929327 units\n",
      "Product 6 goes to position 18 and is expected to sell 4.197630456732947 units\n",
      "Product 7 goes to position 5 and is expected to sell 18.721357791997804 units\n",
      "Product 8 goes to position 19 and is expected to sell 0.7134943249232031 units\n",
      "Product 9 goes to position 13 and is expected to sell 18.550852448003283 units\n",
      "Product 10 goes to position 1 and is expected to sell 29.325910161459866 units\n",
      "Product 11 goes to position 14 and is expected to sell 0.0 units\n",
      "Product 12 goes to position 3 and is expected to sell 22.06200338656211 units\n",
      "Product 13 goes to position 6 and is expected to sell 29.94985509003751 units\n",
      "Product 14 goes to position 17 and is expected to sell 4.8510621117785035 units\n",
      "Product 15 goes to position 2 and is expected to sell 29.949855090037513 units\n",
      "Product 16 goes to position 7 and is expected to sell 17.36235445669893 units\n",
      "Product 17 goes to position 15 and is expected to sell 7.127038123766642 units\n",
      "Product 18 goes to position 9 and is expected to sell 15.417081279776099 units\n",
      "Product 19 goes to position 8 and is expected to sell 30.0 units\n"
     ]
    }
   ],
   "source": [
    "print('Total cost = ', solver.Objective().Value())\n",
    "for i in range(N_PRODUCTS):\n",
    "    for j in range(N_PRODUCTS):\n",
    "        if chosen[i, j].solution_value() > 0:\n",
    "            print(f'Product {i} goes to position {j} and is expected to sell {extrapolated_sales_matrix[i, j]} units') "
   ]
  },
  {
   "cell_type": "code",
   "execution_count": 15,
   "metadata": {},
   "outputs": [
    {
     "name": "stdout",
     "output_type": "stream",
     "text": [
      "Previous ranking forecast: 280 units\n",
      "New Ranking forecast: 319.23724812395346 units\n",
      "Expected performance increase wrt before -> 14.013%\n"
     ]
    }
   ],
   "source": [
    "previous_units_sold = sum(SALES_FORECAST)\n",
    "optimized_units_sold = solver.Objective().Value()\n",
    "\n",
    "delta = (optimized_units_sold / previous_units_sold  - 1) * 100\n",
    "print(f'Previous ranking forecast: {previous_units_sold} units'\\\n",
    "      f'\\nNew Ranking forecast: {optimized_units_sold} units')\n",
    "print(f'Expected performance increase wrt before -> {np.round(delta, 3)}%')"
   ]
  },
  {
   "cell_type": "code",
   "execution_count": null,
   "metadata": {},
   "outputs": [],
   "source": []
  }
 ],
 "metadata": {
  "kernelspec": {
   "display_name": "Python 3",
   "language": "python",
   "name": "python3"
  },
  "language_info": {
   "codemirror_mode": {
    "name": "ipython",
    "version": 3
   },
   "file_extension": ".py",
   "mimetype": "text/x-python",
   "name": "python",
   "nbconvert_exporter": "python",
   "pygments_lexer": "ipython3",
   "version": "3.7.7"
  }
 },
 "nbformat": 4,
 "nbformat_minor": 4
}
